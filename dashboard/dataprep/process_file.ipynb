{
 "cells": [
  {
   "cell_type": "code",
   "execution_count": 1,
   "metadata": {},
   "outputs": [],
   "source": [
    "import pandas as pd"
   ]
  },
  {
   "cell_type": "code",
   "execution_count": 2,
   "metadata": {},
   "outputs": [],
   "source": [
    "confirmed_global = pd.read_csv('../../COVID-19/csse_covid_19_data/csse_covid_19_time_series/time_series_covid19_confirmed_global.csv')\n",
    "confirmed_global_us = pd.read_csv('../../COVID-19/csse_covid_19_data/csse_covid_19_time_series/time_series_covid19_confirmed_US.csv')\n",
    "confirmed_global_us = confirmed_global_us[['Country_Region','1/22/20', '1/23/20', '1/24/20', '1/25/20', '1/26/20', '1/27/20','1/28/20', '1/29/20', '1/30/20', '1/31/20', '2/1/20', '2/2/20','2/3/20', '2/4/20', '2/5/20', '2/6/20', '2/7/20', '2/8/20', '2/9/20','2/10/20', '2/11/20', '2/12/20', '2/13/20', '2/14/20', '2/15/20','2/16/20', '2/17/20', '2/18/20', '2/19/20', '2/20/20', '2/21/20','2/22/20', '2/23/20', '2/24/20', '2/25/20', '2/26/20', '2/27/20','2/28/20', '2/29/20', '3/1/20', '3/2/20', '3/3/20', '3/4/20', '3/5/20','3/6/20', '3/7/20', '3/8/20', '3/9/20', '3/10/20', '3/11/20', '3/12/20','3/13/20', '3/14/20', '3/15/20', '3/16/20', '3/17/20', '3/18/20','3/19/20', '3/20/20', '3/21/20', '3/22/20', '3/23/20', '3/24/20','3/25/20', '3/26/20', '3/27/20', '3/28/20', '3/29/20', '3/30/20','3/31/20', '4/1/20', '4/2/20', '4/3/20', '4/4/20', '4/5/20', '4/6/20','4/7/20', '4/8/20', '4/9/20', '4/10/20']].groupby('Country_Region').sum()\n",
    "idx = 0\n",
    "new_col = None  # can be a list, a Series, an array or a scalar   \n",
    "confirmed_global_us.insert(loc=0, column='Province/State', value=None)\n",
    "confirmed_global_us.insert(loc=1, column='Country/Region', value='United States')\n",
    "confirmed_global_us.insert(loc=2, column='Lat', value=31.7860603)\n",
    "confirmed_global_us.insert(loc=3, column='Long', value=-132.0853276)\n",
    "confirmed_global_us.reset_index()\n",
    "frames = [confirmed_global,confirmed_global_us]\n",
    "confirmed_global = pd.concat(frames)\n",
    "confirmed_global['type']=['confirmed global' for i in range(0,len(confirmed_global))]"
   ]
  },
  {
   "cell_type": "code",
   "execution_count": 3,
   "metadata": {},
   "outputs": [],
   "source": [
    "deaths_global = pd.read_csv('../../COVID-19/csse_covid_19_data/csse_covid_19_time_series/time_series_covid19_deaths_global.csv')\n",
    "deaths_global_us = pd.read_csv('../../COVID-19/csse_covid_19_data/csse_covid_19_time_series/time_series_covid19_deaths_US.csv')\n",
    "deaths_global_us = deaths_global_us[['Country_Region','1/22/20', '1/23/20', '1/24/20', '1/25/20', '1/26/20', '1/27/20','1/28/20', '1/29/20', '1/30/20', '1/31/20', '2/1/20', '2/2/20','2/3/20', '2/4/20', '2/5/20', '2/6/20', '2/7/20', '2/8/20', '2/9/20','2/10/20', '2/11/20', '2/12/20', '2/13/20', '2/14/20', '2/15/20','2/16/20', '2/17/20', '2/18/20', '2/19/20', '2/20/20', '2/21/20','2/22/20', '2/23/20', '2/24/20', '2/25/20', '2/26/20', '2/27/20','2/28/20', '2/29/20', '3/1/20', '3/2/20', '3/3/20', '3/4/20', '3/5/20','3/6/20', '3/7/20', '3/8/20', '3/9/20', '3/10/20', '3/11/20', '3/12/20','3/13/20', '3/14/20', '3/15/20', '3/16/20', '3/17/20', '3/18/20','3/19/20', '3/20/20', '3/21/20', '3/22/20', '3/23/20', '3/24/20','3/25/20', '3/26/20', '3/27/20', '3/28/20', '3/29/20', '3/30/20','3/31/20', '4/1/20', '4/2/20', '4/3/20', '4/4/20', '4/5/20', '4/6/20','4/7/20', '4/8/20', '4/9/20', '4/10/20']].groupby('Country_Region').sum()\n",
    "idx = 0\n",
    "new_col = None  # can be a list, a Series, an array or a scalar   \n",
    "deaths_global_us.insert(loc=0, column='Province/State', value=None)\n",
    "deaths_global_us.insert(loc=1, column='Country/Region', value='United States')\n",
    "deaths_global_us.insert(loc=2, column='Lat', value=31.7860603)\n",
    "deaths_global_us.insert(loc=3, column='Long', value=-132.0853276)\n",
    "deaths_global_us.reset_index()\n",
    "frames = [deaths_global,deaths_global_us]\n",
    "deaths_global = pd.concat(frames)\n",
    "\n",
    "deaths_global['type']=['deaths global' for i in range(0,len(deaths_global))]"
   ]
  },
  {
   "cell_type": "code",
   "execution_count": 4,
   "metadata": {},
   "outputs": [],
   "source": [
    "recovered_global = pd.read_csv('../../COVID-19/csse_covid_19_data/csse_covid_19_time_series/time_series_covid19_recovered_global.csv')\n",
    "recovered_global['type']=['recovered global' for i in range(0,len(recovered_global))]"
   ]
  },
  {
   "cell_type": "code",
   "execution_count": 5,
   "metadata": {},
   "outputs": [],
   "source": [
    "frames = [confirmed_global, deaths_global, recovered_global]\n",
    "result = pd.concat(frames)"
   ]
  },
  {
   "cell_type": "code",
   "execution_count": 6,
   "metadata": {},
   "outputs": [],
   "source": [
    "from pandas import ExcelWriter\n",
    "with ExcelWriter('../files/covid19_unified.xlsx') as writer:\n",
    "    result.to_excel(writer)"
   ]
  },
  {
   "cell_type": "code",
   "execution_count": null,
   "metadata": {},
   "outputs": [],
   "source": []
  }
 ],
 "metadata": {
  "kernelspec": {
   "display_name": "Python 3",
   "language": "python",
   "name": "python3"
  },
  "language_info": {
   "codemirror_mode": {
    "name": "ipython",
    "version": 3
   },
   "file_extension": ".py",
   "mimetype": "text/x-python",
   "name": "python",
   "nbconvert_exporter": "python",
   "pygments_lexer": "ipython3",
   "version": "3.8.1"
  }
 },
 "nbformat": 4,
 "nbformat_minor": 4
}
